{
 "cells": [
  {
   "cell_type": "markdown",
   "metadata": {},
   "source": [
    "### OOP Object Oriented Programming\n",
    "\n",
    "Init method we define the model layers\n",
    "\n",
    "Forward method describes what happens to the input when passed to the model"
   ]
  },
  {
   "cell_type": "code",
   "execution_count": 17,
   "metadata": {},
   "outputs": [],
   "source": [
    "import torch\n",
    "import torch.nn as nn\n",
    "import torch.nn.functional as F\n",
    "import torch.optim as optim\n",
    "from torch.utils.data import TensorDataset, DataLoader, random_split\n",
    "\n",
    "import pandas as pd\n",
    "\n",
    "from sklearn.model_selection import train_test_split"
   ]
  },
  {
   "cell_type": "code",
   "execution_count": 20,
   "metadata": {},
   "outputs": [],
   "source": [
    "\n",
    "class Net(nn.Module):\n",
    "    def __init__(self):\n",
    "        super(Net, self).__init__()\n",
    "        # Define the three linear layers\n",
    "        self.fc1 = nn.Linear(4,16)\n",
    "        self.fc2 = nn.Linear(16,8)\n",
    "        self.fc3 = nn.Linear(8,1)\n",
    "        \n",
    "    def forward(self, x):\n",
    "        # Pass x through linear layers adding activations\n",
    "        x = nn.functional.relu(self.fc1(x))\n",
    "        x = nn.functional.relu(self.fc2(x))\n",
    "        x = nn.functional.sigmoid(self.fc3(x))\n",
    "        return x"
   ]
  },
  {
   "cell_type": "code",
   "execution_count": 18,
   "metadata": {},
   "outputs": [],
   "source": [
    "df = pd.read_csv(\"Data/water_potability.csv\")\n",
    "df = df.dropna()\n",
    "\n",
    "X = df[['ph', 'Sulfate', 'Conductivity', 'Organic_carbon']].values\n",
    "y = df['Potability'].values\n",
    "\n",
    "\n",
    "\n",
    "# Split the data into training and validation sets\n",
    "X_train, X_val, y_train, y_val = train_test_split(X, y, test_size=0.2, random_state=42)\n",
    "\n",
    "# Convert to PyTorch tensors\n",
    "X_train = torch.tensor(X_train, dtype=torch.float32)\n",
    "y_train = torch.tensor(y_train, dtype=torch.float32).reshape(-1, 1)\n",
    "X_val = torch.tensor(X_val, dtype=torch.float32)\n",
    "y_val = torch.tensor(y_val, dtype=torch.float32).reshape(-1, 1)\n"
   ]
  },
  {
   "cell_type": "code",
   "execution_count": 24,
   "metadata": {},
   "outputs": [],
   "source": [
    "def train_model(optimizer, net, criterion, train_loader, val_loader, num_epochs):\n",
    "    for epoch in range(num_epochs):\n",
    "        net.train()\n",
    "        running_loss = 0.0\n",
    "\n",
    "        for inputs, labels in train_loader:\n",
    "            optimizer.zero_grad()\n",
    "            outputs = net(inputs)\n",
    "            loss = criterion(outputs, labels)\n",
    "            loss.backward()\n",
    "            optimizer.step()\n",
    "            running_loss += loss.item()\n",
    "\n",
    "        avg_loss = running_loss / len(train_loader)\n",
    "        print(f'Train Epoch {epoch + 1}/{num_epochs}, Loss: {avg_loss}')\n",
    "\n",
    "        # Validation\n",
    "        net.eval()\n",
    "        val_loss = sum(criterion(net(inputs), labels) for inputs, labels in val_loader)\n",
    "        avg_val_loss = val_loss / len(val_loader)\n",
    "        print(f'Validation Loss: {avg_val_loss}')\n",
    "\n",
    "\n",
    "\n"
   ]
  },
  {
   "cell_type": "markdown",
   "metadata": {},
   "source": [
    "### Comparing different optimizers"
   ]
  },
  {
   "cell_type": "code",
   "execution_count": 23,
   "metadata": {},
   "outputs": [
    {
     "name": "stdout",
     "output_type": "stream",
     "text": [
      "Train Epoch 1/10, Loss: 3.310666792532977\n",
      "Validation Loss: 0.855174931196066\n",
      "Train Epoch 2/10, Loss: 0.7132384812130648\n",
      "Validation Loss: 0.9073890814414391\n",
      "Train Epoch 3/10, Loss: 0.6890075907987707\n",
      "Validation Loss: 0.6926351418861976\n",
      "Train Epoch 4/10, Loss: 0.6828701379252415\n",
      "Validation Loss: 0.6818043681291434\n",
      "Train Epoch 5/10, Loss: 0.6821394597782808\n",
      "Validation Loss: 0.686274542258336\n",
      "Train Epoch 6/10, Loss: 0.6795998846783358\n",
      "Validation Loss: 0.6856765242723318\n",
      "Train Epoch 7/10, Loss: 0.6750256956792345\n",
      "Validation Loss: 0.6898841720360976\n",
      "Train Epoch 8/10, Loss: 0.6767028383180207\n",
      "Validation Loss: 0.6767495457942669\n",
      "Train Epoch 9/10, Loss: 0.6792532941874336\n",
      "Validation Loss: 0.6816815137863159\n",
      "Train Epoch 10/10, Loss: 0.6770625383246178\n",
      "Validation Loss: 0.688838426883404\n"
     ]
    }
   ],
   "source": [
    "\n",
    "\n",
    "train_dataset = TensorDataset(X_train, y_train)\n",
    "val_dataset = TensorDataset(X_val, y_val)\n",
    "\n",
    "batch_size = 32\n",
    "train_loader = DataLoader(train_dataset, batch_size=batch_size, shuffle=True)\n",
    "val_loader = DataLoader(val_dataset, batch_size=batch_size, shuffle=False)\n",
    "\n",
    "net = Net()\n",
    "optimizer = optim.SGD(net.parameters(), lr=0.001)\n",
    "criterion = nn.BCELoss() \n",
    "\n",
    "train_model(optimizer, net, criterion, train_loader, val_loader, num_epochs=10)"
   ]
  },
  {
   "cell_type": "code",
   "execution_count": 25,
   "metadata": {},
   "outputs": [
    {
     "name": "stdout",
     "output_type": "stream",
     "text": [
      "Train Epoch 1/10, Loss: 0.684514181286681\n",
      "Validation Loss: 0.6768715381622314\n",
      "Train Epoch 2/10, Loss: 0.6748490765982983\n",
      "Validation Loss: 0.6931061148643494\n",
      "Train Epoch 3/10, Loss: 0.6749864968599057\n",
      "Validation Loss: 0.6760880351066589\n",
      "Train Epoch 4/10, Loss: 0.6715860787559959\n",
      "Validation Loss: 0.685457170009613\n",
      "Train Epoch 5/10, Loss: 0.6745674656886681\n",
      "Validation Loss: 0.6762488484382629\n",
      "Train Epoch 6/10, Loss: 0.6718252815452277\n",
      "Validation Loss: 0.6770654916763306\n",
      "Train Epoch 7/10, Loss: 0.6722326559178969\n",
      "Validation Loss: 0.6781734824180603\n",
      "Train Epoch 8/10, Loss: 0.672222304577921\n",
      "Validation Loss: 0.6768366098403931\n",
      "Train Epoch 9/10, Loss: 0.6722466524909524\n",
      "Validation Loss: 0.6791753172874451\n",
      "Train Epoch 10/10, Loss: 0.6738985800275615\n",
      "Validation Loss: 0.6791968941688538\n"
     ]
    }
   ],
   "source": [
    "optimizer = optim.RMSprop(net.parameters(), lr=0.001)\n",
    "criterion = nn.BCELoss() \n",
    "\n",
    "train_model(optimizer, net, criterion, train_loader, val_loader, num_epochs=10)"
   ]
  },
  {
   "cell_type": "code",
   "execution_count": 26,
   "metadata": {},
   "outputs": [
    {
     "name": "stdout",
     "output_type": "stream",
     "text": [
      "Train Epoch 1/10, Loss: 0.6733917255027622\n",
      "Validation Loss: 0.678339958190918\n",
      "Train Epoch 2/10, Loss: 0.6714538920159433\n",
      "Validation Loss: 0.6818587183952332\n",
      "Train Epoch 3/10, Loss: 0.6718390583992004\n",
      "Validation Loss: 0.6810898184776306\n",
      "Train Epoch 4/10, Loss: 0.6692031423250834\n",
      "Validation Loss: 0.6780024766921997\n",
      "Train Epoch 5/10, Loss: 0.6728539992781246\n",
      "Validation Loss: 0.6799132227897644\n",
      "Train Epoch 6/10, Loss: 0.6706830730625227\n",
      "Validation Loss: 0.6828165054321289\n",
      "Train Epoch 7/10, Loss: 0.6715747398488662\n",
      "Validation Loss: 0.6775144934654236\n",
      "Train Epoch 8/10, Loss: 0.6694145518190721\n",
      "Validation Loss: 0.677531898021698\n",
      "Train Epoch 9/10, Loss: 0.6674144168694814\n",
      "Validation Loss: 0.6896051168441772\n",
      "Train Epoch 10/10, Loss: 0.6735754901287603\n",
      "Validation Loss: 0.6794503927230835\n"
     ]
    }
   ],
   "source": [
    "optimizer = optim.Adam(net.parameters(),lr=0.001)\n",
    "\n",
    "criterion = nn.BCELoss() \n",
    "\n",
    "train_model(optimizer, net, criterion, train_loader, val_loader, num_epochs=10)"
   ]
  }
 ],
 "metadata": {
  "kernelspec": {
   "display_name": "Python 3",
   "language": "python",
   "name": "python3"
  },
  "language_info": {
   "codemirror_mode": {
    "name": "ipython",
    "version": 3
   },
   "file_extension": ".py",
   "mimetype": "text/x-python",
   "name": "python",
   "nbconvert_exporter": "python",
   "pygments_lexer": "ipython3",
   "version": "3.8.18"
  }
 },
 "nbformat": 4,
 "nbformat_minor": 2
}
