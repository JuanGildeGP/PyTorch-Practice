{
 "cells": [
  {
   "cell_type": "markdown",
   "metadata": {},
   "source": [
    "### OOP Object Oriented Programming\n",
    "\n",
    "Init method we define the model layers\n",
    "\n",
    "Forward method describes what happens to the input when passed to the model"
   ]
  },
  {
   "cell_type": "code",
   "execution_count": 15,
   "metadata": {},
   "outputs": [],
   "source": [
    "import torch\n",
    "import torch.nn as nn\n",
    "import torch.nn.functional as F\n",
    "import torch.optim as optim\n",
    "from torch.utils.data import TensorDataset, DataLoader, random_split\n",
    "import torch.nn.init as init\n",
    "\n",
    "import pandas as pd\n",
    "from torchmetrics import Accuracy\n",
    "\n",
    "from sklearn.model_selection import train_test_split"
   ]
  },
  {
   "cell_type": "code",
   "execution_count": 6,
   "metadata": {},
   "outputs": [],
   "source": [
    "\n",
    "class Net(nn.Module):\n",
    "    def __init__(self):\n",
    "        super(Net, self).__init__()\n",
    "        # Define the three linear layers\n",
    "        self.fc1 = nn.Linear(4,16)\n",
    "        self.fc2 = nn.Linear(16,8)\n",
    "        self.fc3 = nn.Linear(8,1)\n",
    "        \n",
    "    def forward(self, x):\n",
    "        # Pass x through linear layers adding activations\n",
    "        x = nn.functional.relu(self.fc1(x))\n",
    "        x = nn.functional.relu(self.fc2(x))\n",
    "        x = nn.functional.sigmoid(self.fc3(x))\n",
    "        return x"
   ]
  },
  {
   "cell_type": "code",
   "execution_count": 7,
   "metadata": {},
   "outputs": [],
   "source": [
    "df = pd.read_csv(\"Data/water_potability.csv\")\n",
    "df = df.dropna()\n",
    "\n",
    "X = df[['ph', 'Sulfate', 'Conductivity', 'Organic_carbon']].values\n",
    "y = df['Potability'].values\n",
    "\n",
    "\n",
    "\n",
    "# Split the data into training and validation sets\n",
    "X_train, X_val, y_train, y_val = train_test_split(X, y, test_size=0.2, random_state=42)\n",
    "\n",
    "# Convert to PyTorch tensors\n",
    "X_train = torch.tensor(X_train, dtype=torch.float32)\n",
    "y_train = torch.tensor(y_train, dtype=torch.float32).reshape(-1, 1)\n",
    "X_val = torch.tensor(X_val, dtype=torch.float32)\n",
    "y_val = torch.tensor(y_val, dtype=torch.float32).reshape(-1, 1)\n"
   ]
  },
  {
   "cell_type": "code",
   "execution_count": 8,
   "metadata": {},
   "outputs": [],
   "source": [
    "def train_model(optimizer, net, criterion, train_loader, val_loader, num_epochs):\n",
    "    for epoch in range(num_epochs):\n",
    "        net.train()\n",
    "        running_loss = 0.0\n",
    "\n",
    "        for inputs, labels in train_loader:\n",
    "            optimizer.zero_grad()\n",
    "            outputs = net(inputs)\n",
    "            loss = criterion(outputs, labels)\n",
    "            loss.backward()\n",
    "            optimizer.step()\n",
    "            running_loss += loss.item()\n",
    "\n",
    "        avg_loss = running_loss / len(train_loader)\n",
    "        print(f'Train Epoch {epoch + 1}/{num_epochs}, Loss: {avg_loss}')\n",
    "\n",
    "        # Validation\n",
    "        net.eval()\n",
    "        val_loss = sum(criterion(net(inputs), labels) for inputs, labels in val_loader)\n",
    "        avg_val_loss = val_loss / len(val_loader)\n",
    "        print(f'Validation Loss: {avg_val_loss}')\n",
    "\n",
    "\n",
    "\n"
   ]
  },
  {
   "cell_type": "markdown",
   "metadata": {},
   "source": [
    "### Comparing different optimizers\n",
    "\n",
    "Optimizer\n",
    "\n",
    "Update parameters\n",
    "\n",
    "\n",
    "SGD (Stochsatic Gradient Descent)\n",
    "- Update depends on learning rate\n",
    "- Simple and efficient for basic models \n",
    "- Rarely used in practice\n",
    "\n",
    "Adagrad (Adaptive Gradient)\n",
    "- Adapts learning rate for each param\n",
    "- Good for sparse data\n",
    "- May decrease lr to fast\n",
    "\n",
    "RMSprop (Root Mean Square Propagation)\n",
    "- Update lr for each param based on size of its prev gradients\n",
    "\n",
    "Adam (Adaptive Moment Estimaton)\n",
    "- Most versatile and used\n",
    "- RMSprop + momentum\n"
   ]
  },
  {
   "cell_type": "code",
   "execution_count": 9,
   "metadata": {},
   "outputs": [
    {
     "name": "stdout",
     "output_type": "stream",
     "text": [
      "Train Epoch 1/10, Loss: 1.249720878460828\n",
      "Validation Loss: 0.7630038857460022\n",
      "Train Epoch 2/10, Loss: 0.7356672029869229\n",
      "Validation Loss: 0.6685841083526611\n",
      "Train Epoch 3/10, Loss: 0.7105151286312178\n",
      "Validation Loss: 0.6981305480003357\n",
      "Train Epoch 4/10, Loss: 0.7038150441412833\n",
      "Validation Loss: 0.6801831722259521\n",
      "Train Epoch 5/10, Loss: 0.7154992900642694\n",
      "Validation Loss: 0.94149249792099\n",
      "Train Epoch 6/10, Loss: 0.6961218615372976\n",
      "Validation Loss: 0.6849472522735596\n",
      "Train Epoch 7/10, Loss: 0.6921929646940792\n",
      "Validation Loss: 0.676598846912384\n",
      "Train Epoch 8/10, Loss: 0.6966932451023775\n",
      "Validation Loss: 0.7226216197013855\n",
      "Train Epoch 9/10, Loss: 0.6896803086879206\n",
      "Validation Loss: 0.796906054019928\n",
      "Train Epoch 10/10, Loss: 0.6831797863922867\n",
      "Validation Loss: 0.6870715022087097\n"
     ]
    }
   ],
   "source": [
    "\n",
    "\n",
    "train_dataset = TensorDataset(X_train, y_train)\n",
    "val_dataset = TensorDataset(X_val, y_val)\n",
    "\n",
    "batch_size = 32\n",
    "train_loader = DataLoader(train_dataset, batch_size=batch_size, shuffle=True)\n",
    "val_loader = DataLoader(val_dataset, batch_size=batch_size, shuffle=False)\n",
    "\n",
    "net = Net()\n",
    "optimizer = optim.SGD(net.parameters(), lr=0.001)\n",
    "criterion = nn.BCELoss() \n",
    "\n",
    "train_model(optimizer, net, criterion, train_loader, val_loader, num_epochs=10)"
   ]
  },
  {
   "cell_type": "code",
   "execution_count": 10,
   "metadata": {},
   "outputs": [
    {
     "name": "stdout",
     "output_type": "stream",
     "text": [
      "Train Epoch 1/10, Loss: 0.6989837300543692\n",
      "Validation Loss: 0.6801596283912659\n",
      "Train Epoch 2/10, Loss: 0.675970221267027\n",
      "Validation Loss: 0.70899498462677\n",
      "Train Epoch 3/10, Loss: 0.6816726467188667\n",
      "Validation Loss: 0.713750422000885\n",
      "Train Epoch 4/10, Loss: 0.6761585953188878\n",
      "Validation Loss: 0.6883933544158936\n",
      "Train Epoch 5/10, Loss: 0.6743184257956112\n",
      "Validation Loss: 0.6841436624526978\n",
      "Train Epoch 6/10, Loss: 0.6760777363590166\n",
      "Validation Loss: 0.6792064309120178\n",
      "Train Epoch 7/10, Loss: 0.6757895362143423\n",
      "Validation Loss: 0.6807308793067932\n",
      "Train Epoch 8/10, Loss: 0.6690469068639419\n",
      "Validation Loss: 0.7493492960929871\n",
      "Train Epoch 9/10, Loss: 0.6756961076867347\n",
      "Validation Loss: 0.6940949559211731\n",
      "Train Epoch 10/10, Loss: 0.675023642240786\n",
      "Validation Loss: 0.6920475363731384\n"
     ]
    }
   ],
   "source": [
    "optimizer = optim.RMSprop(net.parameters(), lr=0.001)\n",
    "criterion = nn.BCELoss() \n",
    "\n",
    "train_model(optimizer, net, criterion, train_loader, val_loader, num_epochs=10)"
   ]
  },
  {
   "cell_type": "code",
   "execution_count": 11,
   "metadata": {},
   "outputs": [
    {
     "name": "stdout",
     "output_type": "stream",
     "text": [
      "Train Epoch 1/10, Loss: 0.6768721038219976\n",
      "Validation Loss: 0.6799663305282593\n",
      "Train Epoch 2/10, Loss: 0.6736545036820805\n",
      "Validation Loss: 0.6785370707511902\n",
      "Train Epoch 3/10, Loss: 0.670043640276965\n",
      "Validation Loss: 0.6820958852767944\n",
      "Train Epoch 4/10, Loss: 0.6758833586000929\n",
      "Validation Loss: 0.6835234761238098\n",
      "Train Epoch 5/10, Loss: 0.6701976832221536\n",
      "Validation Loss: 0.686634361743927\n",
      "Train Epoch 6/10, Loss: 0.6722953611729192\n",
      "Validation Loss: 0.6756556630134583\n",
      "Train Epoch 7/10, Loss: 0.6705967421625175\n",
      "Validation Loss: 0.6738203763961792\n",
      "Train Epoch 8/10, Loss: 0.6677833100159963\n",
      "Validation Loss: 0.6864558458328247\n",
      "Train Epoch 9/10, Loss: 0.6739162837757784\n",
      "Validation Loss: 0.6744876503944397\n",
      "Train Epoch 10/10, Loss: 0.667724259928161\n",
      "Validation Loss: 0.6790217161178589\n"
     ]
    }
   ],
   "source": [
    "optimizer = optim.Adam(net.parameters(),lr=0.001)\n",
    "\n",
    "criterion = nn.BCELoss() \n",
    "\n",
    "train_model(optimizer, net, criterion, train_loader, val_loader, num_epochs=10)"
   ]
  },
  {
   "cell_type": "code",
   "execution_count": 14,
   "metadata": {},
   "outputs": [
    {
     "name": "stdout",
     "output_type": "stream",
     "text": [
      "Test accuracy: 0.5806451439857483\n"
     ]
    }
   ],
   "source": [
    "#Check the model's performance \n",
    "acc = Accuracy(task=\"binary\")\n",
    "\n",
    "net.eval()\n",
    "with torch.no_grad():\n",
    "    for features, labels in val_loader:\n",
    "        outputs = net(features)\n",
    "        preds = (outputs >= 0.5).float()\n",
    "        acc(preds, labels.view(-1, 1))\n",
    "\n",
    "test_accuracy = acc.compute()\n",
    "print(f\"Test accuracy: {test_accuracy}\")"
   ]
  },
  {
   "cell_type": "markdown",
   "metadata": {},
   "source": [
    "## Unstable gradients\n",
    "- Vanishing gradients\n",
    "- Exploding gradients\n",
    "\n",
    "Solution\n",
    "- Proper weights\n",
    "- Good activations\n",
    "- Batch normalization"
   ]
  },
  {
   "cell_type": "code",
   "execution_count": 17,
   "metadata": {},
   "outputs": [],
   "source": [
    "\n",
    "class Net(nn.Module):\n",
    "    def __init__(self):\n",
    "        super(Net, self).__init__()\n",
    "        # Define the three linear layers\n",
    "        self.fc1 = nn.Linear(4,16)\n",
    "        self.fc2 = nn.Linear(16,8)\n",
    "        self.fc3 = nn.Linear(8,1)\n",
    "\n",
    "        # Apply He initialization\n",
    "        init.kaiming_uniform_(self.fc1.weight)\n",
    "        init.kaiming_uniform_(self.fc2.weight)\n",
    "        init.kaiming_uniform_(self.fc3.weight, nonlinearity=\"sigmoid\")\n",
    "\n",
    "        # Add two batch normalization layers\n",
    "        self.bn1 = nn.BatchNorm1d(16)\n",
    "        self.bn2 = nn.BatchNorm1d(8)\n",
    "        \n",
    "    def forward(self, x):\n",
    "        x = self.fc1(x)\n",
    "        x = self.bn1(x)\n",
    "        x = nn.functional.elu(x)\n",
    "\n",
    "        # Pass x through the second set of layers\n",
    "        x = self.fc2(x)\n",
    "        x = self.bn2(x)\n",
    "        x = nn.functional.elu(x)\n",
    "\n",
    "        x = nn.functional.sigmoid(self.fc3(x))\n",
    "        return x"
   ]
  },
  {
   "cell_type": "code",
   "execution_count": 18,
   "metadata": {},
   "outputs": [
    {
     "name": "stdout",
     "output_type": "stream",
     "text": [
      "Train Epoch 1/10, Loss: 0.6804442604382833\n",
      "Validation Loss: 0.6899144649505615\n",
      "Train Epoch 2/10, Loss: 0.672169002832151\n",
      "Validation Loss: 0.6919499039649963\n",
      "Train Epoch 3/10, Loss: 0.6742618247574451\n",
      "Validation Loss: 0.6803264617919922\n",
      "Train Epoch 4/10, Loss: 0.6711124240183363\n",
      "Validation Loss: 0.6828188300132751\n",
      "Train Epoch 5/10, Loss: 0.6714974419743407\n",
      "Validation Loss: 0.6745815873146057\n",
      "Train Epoch 6/10, Loss: 0.672397888174244\n",
      "Validation Loss: 0.6823580265045166\n",
      "Train Epoch 7/10, Loss: 0.6710366980702269\n",
      "Validation Loss: 0.677545964717865\n",
      "Train Epoch 8/10, Loss: 0.6716990424137489\n",
      "Validation Loss: 0.6895720958709717\n",
      "Train Epoch 9/10, Loss: 0.6711431215791142\n",
      "Validation Loss: 0.6781908869743347\n",
      "Train Epoch 10/10, Loss: 0.6703510810347164\n",
      "Validation Loss: 0.6801164150238037\n"
     ]
    }
   ],
   "source": [
    "optimizer = optim.RMSprop(net.parameters(), lr=0.001)\n",
    "criterion = nn.BCELoss() \n",
    "\n",
    "train_model(optimizer, net, criterion, train_loader, val_loader, num_epochs=10)"
   ]
  },
  {
   "cell_type": "code",
   "execution_count": 21,
   "metadata": {},
   "outputs": [
    {
     "name": "stdout",
     "output_type": "stream",
     "text": [
      "Test accuracy: 0.578163743019104\n"
     ]
    }
   ],
   "source": [
    "#Check the model's performance\n",
    "acc = Accuracy(task=\"binary\")\n",
    "\n",
    "net.eval()\n",
    "with torch.no_grad():\n",
    "    for features, labels in val_loader:\n",
    "        outputs = net(features)\n",
    "        preds = (outputs >= 0.5).float()\n",
    "        acc(preds, labels.view(-1, 1))\n",
    "\n",
    "test_accuracy = acc.compute()\n",
    "print(f\"Test accuracy: {test_accuracy}\")"
   ]
  }
 ],
 "metadata": {
  "kernelspec": {
   "display_name": "Python 3",
   "language": "python",
   "name": "python3"
  },
  "language_info": {
   "codemirror_mode": {
    "name": "ipython",
    "version": 3
   },
   "file_extension": ".py",
   "mimetype": "text/x-python",
   "name": "python",
   "nbconvert_exporter": "python",
   "pygments_lexer": "ipython3",
   "version": "3.8.18"
  }
 },
 "nbformat": 4,
 "nbformat_minor": 2
}
